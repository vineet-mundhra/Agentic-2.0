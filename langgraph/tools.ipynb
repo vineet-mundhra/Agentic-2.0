{
 "cells": [
  {
   "cell_type": "code",
   "execution_count": 1,
   "id": "44a15266",
   "metadata": {},
   "outputs": [],
   "source": [
    "from langchain_community.tools import WikipediaQueryRun\n",
    "from langchain_community.utilities import WikipediaAPIWrapper"
   ]
  },
  {
   "cell_type": "code",
   "execution_count": 2,
   "id": "28310e92",
   "metadata": {},
   "outputs": [
    {
     "name": "stdout",
     "output_type": "stream",
     "text": [
      "Wikipedia search results for 'Artificial Intelligence':\n",
      "\n",
      "Page: Artificial intelligence\n",
      "Summary: Artificial intelligence (AI) is the capability of computational systems to perform tasks typically associated with human intelligence, such as learning, reasoning, problem-solving, perception, and decision-making. It is a field of research in computer science that develops and studies methods and software that enable machines to perceive their environment and use learning and intelligence to take actions that maximize their chances of achieving defined goals.\n",
      "High-profile applications of AI include advanced web search engines (e.g., Google Search); recommendation systems (used by YouTube, Amazon, and Netflix); virtual assistants (e.g., Google Assistant, Siri, and Alexa); autonomous vehicles (e.g., Waymo); generative and creative tools (e.g., ChatGPT and AI art); and superhuman play and analysis in strategy games (e.g., chess and Go). However, many AI applications are not perceived as AI: \"A lot of cutting edge AI has filtered into general applications, often without being called AI because once something becomes useful enough and common enough it's not labeled AI anymore.\"\n",
      "Various subfields of AI research are centered around particular goals and the use of particular tools. The traditional goals of AI research include learning, reasoning, knowledge representation, planning, natural language processing, perception, and support for robotics. To reach these goals, AI researchers have adapted and integrated a wide range of techniques, including search and mathematical optimization, formal logic, artificial neural networks, and methods based on statistics, operations research, and economics. AI also draws upon psychology, linguistics, philosophy, neuroscience, and other fields. Some companies, such as OpenAI, Google DeepMind and Meta, aim to create artificial general intelligence (AGI)—AI that can complete virtually any cognitive task at least as well as a human.\n",
      "Artificial intelligence was founded as an academic discipline in 1956, and the field went through multiple cycles of optimism throughout its history, followed by periods of disappointment and loss of funding, known as AI winters. Funding and interest vastly increased after 2012 when graphics processing units started being used to accelerate neural networks, and deep learning outperformed previous AI techniques. This growth accelerated further after 2017 with the transformer architecture. In the 2020s, the period of rapid progress marked by advanced generative AI became known as the AI boom. Generative AI and its ability to create and modify content exposed several unintended consequences and harms in the present and raised ethical concerns about AI's long-term effects and potential existential risks, prompting discussions about regulatory policies to ensure the safety and benefits of the technology.\n",
      "\n",
      "\n",
      "\n",
      "Page: Artificial general intelligence\n",
      "Summary: Artificial general intelligence (AGI)—sometimes called human‑level intelligence AI—is a type of artificial intelligence that would match or surpass human capabilities across virtually all cognitive tasks.\n",
      "Some researchers argue that state‑of‑the‑art large language models already exhibit early signs of AGI‑level capability, while others maintain that genuine AGI has not yet been achieved. AGI is conceptually distinct from artificial superintelligence (ASI), which would outperform the best human abilities across every domain by a wide margin. AGI is considered one of the definitions of strong AI.\n",
      "Unlike artificial narrow intelligence (ANI), whose competence is confined to well‑defined tasks, an AGI system can generalise knowledge, transfer skills between domains, and solve novel problems without task‑specific reprogramming. The concept does not, in principle, require the system to be an autonomous agent; a static model—such as a highly capable large language model—or an embodied robot could both satisfy the definition so long as human‑level breadth and proficiency are achieved.\n",
      "Creating AGI i\n"
     ]
    }
   ],
   "source": [
    "# Initialize the Wikipedia API wrapper\n",
    "wikipedia = WikipediaAPIWrapper()\n",
    "\n",
    "# Search for a topic\n",
    "query = \"Artificial Intelligence\"\n",
    "result = wikipedia.run(query)\n",
    "\n",
    "# Print the results\n",
    "print(f\"Wikipedia search results for '{query}':\\n\")\n",
    "print(result)"
   ]
  },
  {
   "cell_type": "code",
   "execution_count": 4,
   "id": "2e9b338b",
   "metadata": {},
   "outputs": [
    {
     "name": "stdout",
     "output_type": "stream",
     "text": [
      "YouTube search results for 'Tell me about Krish Naik':\n",
      "\n",
      "['https://www.youtube.com/watch?v=p4pHsuEf4Ms&pp=ygUYVGVsbCBtZSBhYm91dCBLcmlzaCBOYWlr', 'https://www.youtube.com/watch?v=JxgmHe2NyeY&pp=ygUYVGVsbCBtZSBhYm91dCBLcmlzaCBOYWlr']\n"
     ]
    }
   ],
   "source": [
    "from langchain_community.tools import YouTubeSearchTool\n",
    "import os\n",
    "\n",
    "# Set your YouTube API key - make sure to replace with your actual API key\n",
    "# os.environ[\"GOOGLE_API_KEY\"] = \"your_youtube_api_key_here\"\n",
    "\n",
    "# Initialize the YouTube search tool\n",
    "youtube_tool = YouTubeSearchTool()\n",
    "\n",
    "# Perform a search\n",
    "query = \"Tell me about Krish Naik\"\n",
    "results = youtube_tool.run(query)\n",
    "\n",
    "# Print the results\n",
    "print(f\"YouTube search results for '{query}':\\n\")\n",
    "print(results)"
   ]
  },
  {
   "cell_type": "code",
   "execution_count": 8,
   "id": "75f0c041",
   "metadata": {},
   "outputs": [],
   "source": [
    "from langchain_community.tools.tavily_search import TavilySearchResults\n",
    "import getpass\n",
    "import os\n",
    "\n",
    "os.getenv(\"TAVILY_API_KEY\") \n",
    "Tool=TavilySearchResults(description=\"who won the last french open\")\n",
    "\n",
    "tool=TavilySearchResults(description=\"what happened in RCB celebration\")\n"
   ]
  },
  {
   "cell_type": "code",
   "execution_count": 10,
   "id": "13e43be9",
   "metadata": {},
   "outputs": [
    {
     "name": "stdout",
     "output_type": "stream",
     "text": [
      "Search results for 'Latest developments in AI':\n",
      "\n",
      "[{'url': 'https://www.crescendo.ai/news/latest-ai-news-and-updates', 'content': \"**Summary:** Google announced significant AI advancements, including the release of Gemini 2.0, their most capable model to date, featuring agentic capabilities for developers, enterprises, and individuals. They also introduced new AI video and image generation models, Veo 2 and Imagen 3, achieving state-of-the-art results in head-to-head comparisons. These developments highlight Google's commitment to advancing AI technology across various applications. [...] **Date:** June 1, 2025  \\n**Summary:** Ukraine reportedly used AI-enhanced drone swarms in a covert mission dubbed â\\x80\\x9cOperation Spider Webâ\\x80\\x9d to target a Russian bomber. The drones, said to cost as little as the price of an iPhone 16 Pro, represent a new phase of low-cost autonomous warfare. [...] **Date:** March 12, 2025  \\n**Summary:** China is accelerating AI development to counter U.S. trade restrictions, rolling out models like Manus and DeepSeek, which rival top U.S. counterparts. The government collaborates with private sectors and universities, reducing dependence on imported technology and establishing a National Computing Power Grid to support AI advancements.\"}, {'url': 'https://appinventiv.com/blog/ai-trends/', 'content': 'One of the latest artificial intelligence trends is Quantum AI, which improves AI algorithms by utilizing quantum computing ideas. This method could pave the way for new developments in areas like complex system optimization, material science, and [encryption](https://appinventiv.com/blog/ultimate-guide-advantages-encryption-technology/) by solving complicated problems far more quickly than traditional computers. [...] One of the most notable new developments in the AI field is the use of autonomous systems to make decisions for users. These AI agents are made to take on jobs proactively, enhancing output and decision-making across a range of sectors, including banking and healthcare. Agentic AI can lower the cognitive burden on human operators and streamline workflows by acting autonomously and anticipating user needs. [...] **A.** The current state of AI includes advancements in AutoML for automating machine learning processes, the rise of Multi-modal AI combining text, image, and speech processing, Explainable AI for transparency in decision-making, enhanced Computer Vision capabilities, and the evolution of Neural Networks for more efficient learning. Additionally, Digital Twins are gaining prominence for simulating real-world objects digitally, reflecting the diverse applications transforming industries'}]\n"
     ]
    }
   ],
   "source": [
    "from langchain_community.tools.tavily_search import TavilySearchResults\n",
    "import os\n",
    "from dotenv import load_dotenv\n",
    "\n",
    "# Load environment variables from .env file\n",
    "load_dotenv()\n",
    "\n",
    "# Create the search tool (it will automatically use TAVILY_API_KEY from environment)\n",
    "search_tool = TavilySearchResults()\n",
    "\n",
    "# Perform a search\n",
    "query = \"Latest developments in AI\"\n",
    "results = search_tool.invoke({\"query\": query})\n",
    "\n",
    "# Print the results\n",
    "print(f\"Search results for '{query}':\\n\")\n",
    "print(results)"
   ]
  }
 ],
 "metadata": {
  "kernelspec": {
   "display_name": "base",
   "language": "python",
   "name": "python3"
  },
  "language_info": {
   "codemirror_mode": {
    "name": "ipython",
    "version": 3
   },
   "file_extension": ".py",
   "mimetype": "text/x-python",
   "name": "python",
   "nbconvert_exporter": "python",
   "pygments_lexer": "ipython3",
   "version": "3.12.7"
  }
 },
 "nbformat": 4,
 "nbformat_minor": 5
}
